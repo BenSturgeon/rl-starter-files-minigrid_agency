{
 "cells": [
  {
   "cell_type": "code",
   "execution_count": 41,
   "id": "592b3280",
   "metadata": {},
   "outputs": [
    {
     "name": "stdout",
     "output_type": "stream",
     "text": [
      "Device: cuda\n",
      "\n",
      "Environment loaded\n",
      "\n",
      "Agent loaded\n",
      "\n"
     ]
    },
    {
     "ename": "AttributeError",
     "evalue": "'str' object has no attribute 'grid'",
     "output_type": "error",
     "traceback": [
      "\u001b[0;31m---------------------------------------------------------------------------\u001b[0m",
      "\u001b[0;31mAttributeError\u001b[0m                            Traceback (most recent call last)",
      "\u001b[0;32m/tmp/ipykernel_30072/292934914.py\u001b[0m in \u001b[0;36m<module>\u001b[0;34m\u001b[0m\n\u001b[1;32m    110\u001b[0m         \u001b[0mobs\u001b[0m\u001b[0;34m,\u001b[0m \u001b[0mreward\u001b[0m\u001b[0;34m,\u001b[0m \u001b[0mterminated\u001b[0m\u001b[0;34m,\u001b[0m \u001b[0mtruncated\u001b[0m\u001b[0;34m,\u001b[0m \u001b[0m_\u001b[0m \u001b[0;34m=\u001b[0m \u001b[0menv\u001b[0m\u001b[0;34m.\u001b[0m\u001b[0mstep\u001b[0m\u001b[0;34m(\u001b[0m\u001b[0maction\u001b[0m\u001b[0;34m)\u001b[0m\u001b[0;34m\u001b[0m\u001b[0;34m\u001b[0m\u001b[0m\n\u001b[1;32m    111\u001b[0m \u001b[0;34m\u001b[0m\u001b[0m\n\u001b[0;32m--> 112\u001b[0;31m         \u001b[0mnext_states\u001b[0m \u001b[0;34m=\u001b[0m \u001b[0mdfs\u001b[0m\u001b[0;34m(\u001b[0m\u001b[0menv\u001b[0m\u001b[0;34m,\u001b[0m \u001b[0mobs\u001b[0m\u001b[0;34m,\u001b[0m \u001b[0magent\u001b[0m\u001b[0;34m,\u001b[0m \u001b[0mdepth\u001b[0m\u001b[0;34m=\u001b[0m\u001b[0;36m3\u001b[0m\u001b[0;34m)\u001b[0m\u001b[0;34m\u001b[0m\u001b[0;34m\u001b[0m\u001b[0m\n\u001b[0m\u001b[1;32m    113\u001b[0m         \u001b[0mprint\u001b[0m\u001b[0;34m(\u001b[0m\u001b[0mlen\u001b[0m\u001b[0;34m(\u001b[0m\u001b[0mnext_states\u001b[0m\u001b[0;34m)\u001b[0m\u001b[0;34m)\u001b[0m\u001b[0;34m\u001b[0m\u001b[0;34m\u001b[0m\u001b[0m\n\u001b[1;32m    114\u001b[0m \u001b[0;34m\u001b[0m\u001b[0m\n",
      "\u001b[0;32m/tmp/ipykernel_30072/292934914.py\u001b[0m in \u001b[0;36mdfs\u001b[0;34m(env, state, agent, depth)\u001b[0m\n\u001b[1;32m     33\u001b[0m \u001b[0;34m\u001b[0m\u001b[0m\n\u001b[1;32m     34\u001b[0m     \u001b[0;32mfor\u001b[0m \u001b[0mnext_state\u001b[0m \u001b[0;32min\u001b[0m \u001b[0mnext_states\u001b[0m\u001b[0;34m:\u001b[0m\u001b[0;34m\u001b[0m\u001b[0;34m\u001b[0m\u001b[0m\n\u001b[0;32m---> 35\u001b[0;31m         \u001b[0mall_states\u001b[0m\u001b[0;34m.\u001b[0m\u001b[0mextend\u001b[0m\u001b[0;34m(\u001b[0m\u001b[0mdfs\u001b[0m\u001b[0;34m(\u001b[0m\u001b[0menv\u001b[0m\u001b[0;34m,\u001b[0m \u001b[0mnext_state\u001b[0m\u001b[0;34m,\u001b[0m \u001b[0magent\u001b[0m\u001b[0;34m,\u001b[0m \u001b[0mdepth\u001b[0m\u001b[0;34m=\u001b[0m\u001b[0mdepth\u001b[0m\u001b[0;34m-\u001b[0m\u001b[0;36m1\u001b[0m\u001b[0;34m)\u001b[0m\u001b[0;34m)\u001b[0m\u001b[0;34m\u001b[0m\u001b[0;34m\u001b[0m\u001b[0m\n\u001b[0m\u001b[1;32m     36\u001b[0m \u001b[0;34m\u001b[0m\u001b[0m\n\u001b[1;32m     37\u001b[0m     \u001b[0;32mreturn\u001b[0m \u001b[0mall_states\u001b[0m\u001b[0;34m\u001b[0m\u001b[0;34m\u001b[0m\u001b[0m\n",
      "\u001b[0;32m/tmp/ipykernel_30072/292934914.py\u001b[0m in \u001b[0;36mdfs\u001b[0;34m(env, state, agent, depth)\u001b[0m\n\u001b[1;32m     33\u001b[0m \u001b[0;34m\u001b[0m\u001b[0m\n\u001b[1;32m     34\u001b[0m     \u001b[0;32mfor\u001b[0m \u001b[0mnext_state\u001b[0m \u001b[0;32min\u001b[0m \u001b[0mnext_states\u001b[0m\u001b[0;34m:\u001b[0m\u001b[0;34m\u001b[0m\u001b[0;34m\u001b[0m\u001b[0m\n\u001b[0;32m---> 35\u001b[0;31m         \u001b[0mall_states\u001b[0m\u001b[0;34m.\u001b[0m\u001b[0mextend\u001b[0m\u001b[0;34m(\u001b[0m\u001b[0mdfs\u001b[0m\u001b[0;34m(\u001b[0m\u001b[0menv\u001b[0m\u001b[0;34m,\u001b[0m \u001b[0mnext_state\u001b[0m\u001b[0;34m,\u001b[0m \u001b[0magent\u001b[0m\u001b[0;34m,\u001b[0m \u001b[0mdepth\u001b[0m\u001b[0;34m=\u001b[0m\u001b[0mdepth\u001b[0m\u001b[0;34m-\u001b[0m\u001b[0;36m1\u001b[0m\u001b[0;34m)\u001b[0m\u001b[0;34m)\u001b[0m\u001b[0;34m\u001b[0m\u001b[0;34m\u001b[0m\u001b[0m\n\u001b[0m\u001b[1;32m     36\u001b[0m \u001b[0;34m\u001b[0m\u001b[0m\n\u001b[1;32m     37\u001b[0m     \u001b[0;32mreturn\u001b[0m \u001b[0mall_states\u001b[0m\u001b[0;34m\u001b[0m\u001b[0;34m\u001b[0m\u001b[0m\n",
      "\u001b[0;32m/tmp/ipykernel_30072/292934914.py\u001b[0m in \u001b[0;36mdfs\u001b[0;34m(env, state, agent, depth)\u001b[0m\n\u001b[1;32m     33\u001b[0m \u001b[0;34m\u001b[0m\u001b[0m\n\u001b[1;32m     34\u001b[0m     \u001b[0;32mfor\u001b[0m \u001b[0mnext_state\u001b[0m \u001b[0;32min\u001b[0m \u001b[0mnext_states\u001b[0m\u001b[0;34m:\u001b[0m\u001b[0;34m\u001b[0m\u001b[0;34m\u001b[0m\u001b[0m\n\u001b[0;32m---> 35\u001b[0;31m         \u001b[0mall_states\u001b[0m\u001b[0;34m.\u001b[0m\u001b[0mextend\u001b[0m\u001b[0;34m(\u001b[0m\u001b[0mdfs\u001b[0m\u001b[0;34m(\u001b[0m\u001b[0menv\u001b[0m\u001b[0;34m,\u001b[0m \u001b[0mnext_state\u001b[0m\u001b[0;34m,\u001b[0m \u001b[0magent\u001b[0m\u001b[0;34m,\u001b[0m \u001b[0mdepth\u001b[0m\u001b[0;34m=\u001b[0m\u001b[0mdepth\u001b[0m\u001b[0;34m-\u001b[0m\u001b[0;36m1\u001b[0m\u001b[0;34m)\u001b[0m\u001b[0;34m)\u001b[0m\u001b[0;34m\u001b[0m\u001b[0;34m\u001b[0m\u001b[0m\n\u001b[0m\u001b[1;32m     36\u001b[0m \u001b[0;34m\u001b[0m\u001b[0m\n\u001b[1;32m     37\u001b[0m     \u001b[0;32mreturn\u001b[0m \u001b[0mall_states\u001b[0m\u001b[0;34m\u001b[0m\u001b[0;34m\u001b[0m\u001b[0m\n",
      "\u001b[0;32m/tmp/ipykernel_30072/292934914.py\u001b[0m in \u001b[0;36mdfs\u001b[0;34m(env, state, agent, depth)\u001b[0m\n\u001b[1;32m     26\u001b[0m \u001b[0;32mdef\u001b[0m \u001b[0mdfs\u001b[0m\u001b[0;34m(\u001b[0m\u001b[0menv\u001b[0m\u001b[0;34m,\u001b[0m \u001b[0mstate\u001b[0m\u001b[0;34m,\u001b[0m \u001b[0magent\u001b[0m\u001b[0;34m,\u001b[0m \u001b[0mdepth\u001b[0m\u001b[0;34m)\u001b[0m\u001b[0;34m:\u001b[0m\u001b[0;34m\u001b[0m\u001b[0;34m\u001b[0m\u001b[0m\n\u001b[1;32m     27\u001b[0m     \u001b[0;32mif\u001b[0m \u001b[0mdepth\u001b[0m \u001b[0;34m==\u001b[0m \u001b[0;36m0\u001b[0m\u001b[0;34m:\u001b[0m\u001b[0;34m\u001b[0m\u001b[0;34m\u001b[0m\u001b[0m\n\u001b[0;32m---> 28\u001b[0;31m         \u001b[0;32mreturn\u001b[0m \u001b[0;34m[\u001b[0m\u001b[0mhash_state\u001b[0m\u001b[0;34m(\u001b[0m\u001b[0mstate\u001b[0m\u001b[0;34m)\u001b[0m\u001b[0;34m]\u001b[0m\u001b[0;34m\u001b[0m\u001b[0;34m\u001b[0m\u001b[0m\n\u001b[0m\u001b[1;32m     29\u001b[0m \u001b[0;34m\u001b[0m\u001b[0m\n\u001b[1;32m     30\u001b[0m     \u001b[0mnext_states\u001b[0m \u001b[0;34m=\u001b[0m \u001b[0mget_next_states\u001b[0m\u001b[0;34m(\u001b[0m\u001b[0menv\u001b[0m\u001b[0;34m,\u001b[0m \u001b[0mstate\u001b[0m\u001b[0;34m,\u001b[0m \u001b[0magent\u001b[0m\u001b[0;34m)\u001b[0m\u001b[0;34m\u001b[0m\u001b[0;34m\u001b[0m\u001b[0m\n",
      "\u001b[0;32m/tmp/ipykernel_30072/292934914.py\u001b[0m in \u001b[0;36mhash_state\u001b[0;34m(env)\u001b[0m\n\u001b[1;32m     39\u001b[0m \u001b[0;32mdef\u001b[0m \u001b[0mhash_state\u001b[0m\u001b[0;34m(\u001b[0m\u001b[0menv\u001b[0m\u001b[0;34m)\u001b[0m\u001b[0;34m:\u001b[0m\u001b[0;34m\u001b[0m\u001b[0;34m\u001b[0m\u001b[0m\n\u001b[1;32m     40\u001b[0m     \u001b[0;31m# Retrieve the grid\u001b[0m\u001b[0;34m\u001b[0m\u001b[0;34m\u001b[0m\u001b[0;34m\u001b[0m\u001b[0m\n\u001b[0;32m---> 41\u001b[0;31m     \u001b[0mgrid\u001b[0m \u001b[0;34m=\u001b[0m \u001b[0menv\u001b[0m\u001b[0;34m.\u001b[0m\u001b[0mgrid\u001b[0m\u001b[0;34m.\u001b[0m\u001b[0mencode\u001b[0m\u001b[0;34m(\u001b[0m\u001b[0;34m)\u001b[0m\u001b[0;34m\u001b[0m\u001b[0;34m\u001b[0m\u001b[0m\n\u001b[0m\u001b[1;32m     42\u001b[0m \u001b[0;34m\u001b[0m\u001b[0m\n\u001b[1;32m     43\u001b[0m     \u001b[0;31m# Retrieve the agent's position and direction\u001b[0m\u001b[0;34m\u001b[0m\u001b[0;34m\u001b[0m\u001b[0;34m\u001b[0m\u001b[0m\n",
      "\u001b[0;31mAttributeError\u001b[0m: 'str' object has no attribute 'grid'"
     ]
    }
   ],
   "source": [
    "import numpy\n",
    "import json\n",
    "import utils\n",
    "from utils import device\n",
    "import hashlib\n",
    "import torch\n",
    "import numpy as np\n",
    "from copy import deepcopy\n",
    "\n",
    "class NumpyEncoder(json.JSONEncoder):\n",
    "    def default(self, obj):\n",
    "        if isinstance(obj, np.integer):\n",
    "            return int(obj)\n",
    "        elif isinstance(obj, np.floating):\n",
    "            return float(obj)\n",
    "        elif isinstance(obj, np.ndarray):\n",
    "            return obj.tolist()\n",
    "        else:\n",
    "            return super(NumpyEncoder, self).default(obj)\n",
    "\n",
    "def hash_state(state):\n",
    "    state_string = json.dumps(state, cls=NumpyEncoder, sort_keys=True).encode('utf-8')\n",
    "    return hashlib.sha256(state_string).hexdigest()  # Hash the encoded state_string, not the state\n",
    "\n",
    "\n",
    "def dfs(env, state, agent, depth):\n",
    "    if depth == 0:\n",
    "        return [hash_state(state)]\n",
    "    \n",
    "    next_states = get_next_states(env, state, agent)\n",
    "\n",
    "    all_states = []\n",
    "\n",
    "    for next_state in next_states:\n",
    "        all_states.extend(dfs(env, next_state, agent, depth=depth-1))\n",
    "    \n",
    "    return all_states\n",
    "\n",
    "def hash_grid(env):\n",
    "    # Retrieve the grid\n",
    "    grid = env.grid.encode()\n",
    "\n",
    "    # Retrieve the agent's position and direction\n",
    "    agent_pos = env.agent_pos\n",
    "    agent_dir = env.agent_dir\n",
    "\n",
    "    # Flatten the grid and convert to string\n",
    "    grid_string = ''.join(str(cell) for row in grid for cell in row)\n",
    "\n",
    "    # Add the agent's position and direction to the string\n",
    "    state_string = f'{grid_string},{agent_pos},{agent_dir}'\n",
    "\n",
    "    # Hash the string\n",
    "    return hashlib.sha256(state_string.encode('utf-8')).hexdigest()\n",
    "\n",
    "\n",
    "def get_next_states(env, state, agent):\n",
    "    \"\"\"\n",
    "    Returns all possible next states given current state\n",
    "    \"\"\"\n",
    "    action_space = env.action_space.n\n",
    "    next_states = []\n",
    "    for action in range(action_space):\n",
    "        env_new = deepcopy(env)\n",
    "        obs_new, _, _, _, _ = env_new.step(action)\n",
    "        next_states.append(hash_grid(env))\n",
    "    return set(next_states)\n",
    "\n",
    "# Replace command line arguments with hard-coded values.\n",
    "env_name = \"MiniGrid-DoorKey-6x6-v0\"\n",
    "model_name = \"DoorKeya2c\"\n",
    "seed = 0\n",
    "shift = 0\n",
    "argmax = False\n",
    "pause = 0.1\n",
    "gif = None\n",
    "episodes = 1000000\n",
    "memory = False\n",
    "text = False\n",
    "\n",
    "# Set seed for all randomness sources\n",
    "utils.seed(seed)\n",
    "\n",
    "# Set device\n",
    "print(f\"Device: {device}\\n\")\n",
    "\n",
    "# Load environment\n",
    "env = utils.make_env(env_name, seed)\n",
    "for _ in range(shift):\n",
    "    env.reset()\n",
    "print(\"Environment loaded\\n\")\n",
    "\n",
    "# Load agent\n",
    "model_dir = utils.get_model_dir(model_name)\n",
    "agent = utils.Agent(env.observation_space, env.action_space, model_dir,\n",
    "                    argmax=argmax, use_memory=memory, use_text=text)\n",
    "print(\"Agent loaded\\n\")\n",
    "\n",
    "# Run the agent\n",
    "if gif:\n",
    "    from array2gif import write_gif\n",
    "    frames = []\n",
    "\n",
    "for episode in range(episodes):\n",
    "    obs, _ = env.reset()\n",
    "\n",
    "    while True:\n",
    "        action = agent.get_action(obs)\n",
    "        obs, reward, terminated, truncated, _ = env.step(action)\n",
    "\n",
    "        next_states = dfs(env, obs, agent, depth=3)\n",
    "        print(len(next_states))\n",
    "\n",
    "        done = terminated | truncated\n",
    "        agent.analyze_feedback(reward, done)\n",
    "\n",
    "        if done:\n",
    "            break\n",
    "\n",
    "if gif:\n",
    "    print(\"Saving gif... \", end=\"\")\n",
    "    write_gif(numpy.array(frames), gif+\".gif\", fps=1/pause)\n",
    "    print(\"Done.\")\n"
   ]
  },
  {
   "cell_type": "code",
   "execution_count": 19,
   "id": "5fa060d4",
   "metadata": {},
   "outputs": [],
   "source": [
    "env_copy2 = env.grid\n"
   ]
  },
  {
   "cell_type": "code",
   "execution_count": 34,
   "id": "8cce925e",
   "metadata": {},
   "outputs": [
    {
     "data": {
      "text/plain": [
       "[<minigrid.core.world_object.Wall at 0x7fa2ed7b49d0>,\n",
       " <minigrid.core.world_object.Wall at 0x7fa2ed7a3fd0>,\n",
       " <minigrid.core.world_object.Wall at 0x7fa2ed7a3dd0>,\n",
       " <minigrid.core.world_object.Wall at 0x7fa2ed7b4450>,\n",
       " <minigrid.core.world_object.Wall at 0x7fa2eda6b510>,\n",
       " <minigrid.core.world_object.Wall at 0x7fa2ed7b4110>,\n",
       " <minigrid.core.world_object.Wall at 0x7fa2ed7a3f50>,\n",
       " None,\n",
       " None,\n",
       " <minigrid.core.world_object.Wall at 0x7fa36e290110>,\n",
       " None,\n",
       " <minigrid.core.world_object.Wall at 0x7fa2ed7b42d0>,\n",
       " <minigrid.core.world_object.Wall at 0x7fa2ed7b4a50>,\n",
       " None,\n",
       " None,\n",
       " <minigrid.core.world_object.Wall at 0x7fa2ed7b44d0>,\n",
       " None,\n",
       " <minigrid.core.world_object.Wall at 0x7fa2ed7b4f10>,\n",
       " <minigrid.core.world_object.Wall at 0x7fa2ed7b4ad0>,\n",
       " None,\n",
       " None,\n",
       " <minigrid.core.world_object.Door at 0x7fa2ed7b4090>,\n",
       " None,\n",
       " <minigrid.core.world_object.Wall at 0x7fa2ed7b4390>,\n",
       " <minigrid.core.world_object.Wall at 0x7fa2ed7b4b50>,\n",
       " None,\n",
       " None,\n",
       " <minigrid.core.world_object.Wall at 0x7fa2ed7b4690>,\n",
       " <minigrid.core.world_object.Goal at 0x7fa2ed7b4e50>,\n",
       " <minigrid.core.world_object.Wall at 0x7fa2ed7b43d0>,\n",
       " <minigrid.core.world_object.Wall at 0x7fa2ed7b4d90>,\n",
       " <minigrid.core.world_object.Wall at 0x7fa2ed7b4310>,\n",
       " <minigrid.core.world_object.Wall at 0x7fa2ed7b4350>,\n",
       " <minigrid.core.world_object.Wall at 0x7fa2ed7b45d0>,\n",
       " <minigrid.core.world_object.Wall at 0x7fa2ed7b4e90>,\n",
       " <minigrid.core.world_object.Wall at 0x7fa2ed7b4410>]"
      ]
     },
     "execution_count": 34,
     "metadata": {},
     "output_type": "execute_result"
    }
   ],
   "source": [
    "env_copy2.grid"
   ]
  },
  {
   "cell_type": "code",
   "execution_count": 23,
   "id": "b81bc48c",
   "metadata": {},
   "outputs": [
    {
     "data": {
      "text/plain": [
       "[<minigrid.core.world_object.Wall at 0x7fa2eda42a50>,\n",
       " <minigrid.core.world_object.Wall at 0x7fa2eda42910>,\n",
       " <minigrid.core.world_object.Wall at 0x7fa2eda425d0>,\n",
       " <minigrid.core.world_object.Wall at 0x7fa2eda42a10>,\n",
       " <minigrid.core.world_object.Wall at 0x7fa2eda42b50>,\n",
       " <minigrid.core.world_object.Wall at 0x7fa2eda42790>,\n",
       " <minigrid.core.world_object.Wall at 0x7fa2eda424d0>,\n",
       " None,\n",
       " None,\n",
       " <minigrid.core.world_object.Wall at 0x7fa2eda42690>,\n",
       " None,\n",
       " <minigrid.core.world_object.Wall at 0x7fa2eda42710>,\n",
       " <minigrid.core.world_object.Wall at 0x7fa2eda42990>,\n",
       " None,\n",
       " None,\n",
       " <minigrid.core.world_object.Wall at 0x7fa2eda427d0>,\n",
       " None,\n",
       " <minigrid.core.world_object.Wall at 0x7fa2eda429d0>,\n",
       " <minigrid.core.world_object.Wall at 0x7fa2eda426d0>,\n",
       " None,\n",
       " None,\n",
       " <minigrid.core.world_object.Door at 0x7fa2eda42750>,\n",
       " None,\n",
       " <minigrid.core.world_object.Wall at 0x7fa2eda42c10>,\n",
       " <minigrid.core.world_object.Wall at 0x7fa2eda42bd0>,\n",
       " None,\n",
       " None,\n",
       " <minigrid.core.world_object.Wall at 0x7fa2eda42c50>,\n",
       " <minigrid.core.world_object.Goal at 0x7fa2eda42b90>,\n",
       " <minigrid.core.world_object.Wall at 0x7fa2eda428d0>,\n",
       " <minigrid.core.world_object.Wall at 0x7fa2eda42a90>,\n",
       " <minigrid.core.world_object.Wall at 0x7fa2eda423d0>,\n",
       " <minigrid.core.world_object.Wall at 0x7fa2eda42c90>,\n",
       " <minigrid.core.world_object.Wall at 0x7fa2eda42890>,\n",
       " <minigrid.core.world_object.Wall at 0x7fa2eda42950>,\n",
       " <minigrid.core.world_object.Wall at 0x7fa2eda42ad0>]"
      ]
     },
     "execution_count": 23,
     "metadata": {},
     "output_type": "execute_result"
    }
   ],
   "source": [
    "env_copy.grid"
   ]
  },
  {
   "cell_type": "code",
   "execution_count": 5,
   "id": "8983266d",
   "metadata": {},
   "outputs": [
    {
     "ename": "NameError",
     "evalue": "name 'agent' is not defined",
     "output_type": "error",
     "traceback": [
      "\u001b[0;31m---------------------------------------------------------------------------\u001b[0m",
      "\u001b[0;31mNameError\u001b[0m                                 Traceback (most recent call last)",
      "\u001b[0;32m/tmp/ipykernel_30072/2515392134.py\u001b[0m in \u001b[0;36m<module>\u001b[0;34m\u001b[0m\n\u001b[0;32m----> 1\u001b[0;31m \u001b[0maction\u001b[0m \u001b[0;34m=\u001b[0m \u001b[0magent\u001b[0m\u001b[0;34m.\u001b[0m\u001b[0mget_action\u001b[0m\u001b[0;34m(\u001b[0m\u001b[0mobs\u001b[0m\u001b[0;34m)\u001b[0m\u001b[0;34m\u001b[0m\u001b[0;34m\u001b[0m\u001b[0m\n\u001b[0m\u001b[1;32m      2\u001b[0m \u001b[0mobs\u001b[0m\u001b[0;34m,\u001b[0m \u001b[0mreward\u001b[0m\u001b[0;34m,\u001b[0m \u001b[0mterminated\u001b[0m\u001b[0;34m,\u001b[0m \u001b[0mtruncated\u001b[0m\u001b[0;34m,\u001b[0m \u001b[0m_\u001b[0m \u001b[0;34m=\u001b[0m \u001b[0menv\u001b[0m\u001b[0;34m.\u001b[0m\u001b[0mstep\u001b[0m\u001b[0;34m(\u001b[0m\u001b[0maction\u001b[0m\u001b[0;34m)\u001b[0m\u001b[0;34m\u001b[0m\u001b[0;34m\u001b[0m\u001b[0m\n\u001b[1;32m      3\u001b[0m \u001b[0;34m\u001b[0m\u001b[0m\n\u001b[1;32m      4\u001b[0m \u001b[0;31m# next_states now contains a dictionary of possible states at t+1, t+2, etc.\u001b[0m\u001b[0;34m\u001b[0m\u001b[0;34m\u001b[0m\u001b[0;34m\u001b[0m\u001b[0m\n\u001b[1;32m      5\u001b[0m \u001b[0mnext_states\u001b[0m \u001b[0;34m=\u001b[0m  \u001b[0mdfs\u001b[0m\u001b[0;34m(\u001b[0m\u001b[0menv\u001b[0m\u001b[0;34m,\u001b[0m \u001b[0mobs\u001b[0m\u001b[0;34m,\u001b[0m \u001b[0magent\u001b[0m\u001b[0;34m,\u001b[0m \u001b[0mdepth\u001b[0m\u001b[0;34m=\u001b[0m\u001b[0;36m3\u001b[0m\u001b[0;34m)\u001b[0m\u001b[0;34m\u001b[0m\u001b[0;34m\u001b[0m\u001b[0m\n",
      "\u001b[0;31mNameError\u001b[0m: name 'agent' is not defined"
     ]
    }
   ],
   "source": [
    "action = agent.get_action(obs)\n",
    "obs, reward, terminated, truncated, _ = env.step(action)\n",
    "\n",
    "# next_states now contains a dictionary of possible states at t+1, t+2, etc.        \n",
    "next_states =  dfs(env, obs, agent, depth=3)\n",
    "print(len(next_states))\n",
    "\n",
    "done = terminated | truncated\n",
    "agent.analyze_feedback(reward, done)\n",
    "\n"
   ]
  },
  {
   "cell_type": "code",
   "execution_count": 3,
   "id": "d0b0a47e",
   "metadata": {},
   "outputs": [
    {
     "ename": "NameError",
     "evalue": "name 'args' is not defined",
     "output_type": "error",
     "traceback": [
      "\u001b[0;31m---------------------------------------------------------------------------\u001b[0m",
      "\u001b[0;31mNameError\u001b[0m                                 Traceback (most recent call last)",
      "\u001b[0;32m/tmp/ipykernel_30072/1534726844.py\u001b[0m in \u001b[0;36m<module>\u001b[0;34m\u001b[0m\n\u001b[0;32m----> 1\u001b[0;31m \u001b[0;32mfor\u001b[0m \u001b[0mepisode\u001b[0m \u001b[0;32min\u001b[0m \u001b[0mrange\u001b[0m\u001b[0;34m(\u001b[0m\u001b[0margs\u001b[0m\u001b[0;34m.\u001b[0m\u001b[0mepisodes\u001b[0m\u001b[0;34m)\u001b[0m\u001b[0;34m:\u001b[0m\u001b[0;34m\u001b[0m\u001b[0;34m\u001b[0m\u001b[0m\n\u001b[0m\u001b[1;32m      2\u001b[0m     \u001b[0mobs\u001b[0m\u001b[0;34m,\u001b[0m \u001b[0m_\u001b[0m \u001b[0;34m=\u001b[0m \u001b[0menv\u001b[0m\u001b[0;34m.\u001b[0m\u001b[0mreset\u001b[0m\u001b[0;34m(\u001b[0m\u001b[0;34m)\u001b[0m\u001b[0;34m\u001b[0m\u001b[0;34m\u001b[0m\u001b[0m\n\u001b[1;32m      3\u001b[0m \u001b[0;34m\u001b[0m\u001b[0m\n\u001b[1;32m      4\u001b[0m \u001b[0;31m#     while True:\u001b[0m\u001b[0;34m\u001b[0m\u001b[0;34m\u001b[0m\u001b[0;34m\u001b[0m\u001b[0m\n\u001b[1;32m      5\u001b[0m \u001b[0;34m\u001b[0m\u001b[0m\n",
      "\u001b[0;31mNameError\u001b[0m: name 'args' is not defined"
     ]
    }
   ],
   "source": [
    "\n",
    "for episode in range(args.episodes):\n",
    "    obs, _ = env.reset()\n",
    "\n",
    "#     while True:\n",
    "\n",
    "\n",
    "\n"
   ]
  },
  {
   "cell_type": "code",
   "execution_count": null,
   "id": "a5809f65",
   "metadata": {},
   "outputs": [],
   "source": []
  }
 ],
 "metadata": {
  "kernelspec": {
   "display_name": "grid_world_kernel",
   "language": "python",
   "name": "minigrid"
  },
  "language_info": {
   "codemirror_mode": {
    "name": "ipython",
    "version": 3
   },
   "file_extension": ".py",
   "mimetype": "text/x-python",
   "name": "python",
   "nbconvert_exporter": "python",
   "pygments_lexer": "ipython3",
   "version": "3.7.12"
  }
 },
 "nbformat": 4,
 "nbformat_minor": 5
}
