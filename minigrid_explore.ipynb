{
 "cells": [
  {
   "cell_type": "code",
   "execution_count": 63,
   "id": "b5ae173d",
   "metadata": {},
   "outputs": [
    {
     "name": "stdout",
     "output_type": "stream",
     "text": [
      "Device: cuda\n",
      "\n",
      "Environment loaded\n",
      "\n",
      "Agent loaded\n",
      "\n"
     ]
    },
    {
     "ename": "TypeError",
     "evalue": "Object of type OrderEnforcing is not JSON serializable",
     "output_type": "error",
     "traceback": [
      "\u001b[0;31m---------------------------------------------------------------------------\u001b[0m",
      "\u001b[0;31mTypeError\u001b[0m                                 Traceback (most recent call last)",
      "\u001b[0;32m/tmp/ipykernel_30072/2011081897.py\u001b[0m in \u001b[0;36m<module>\u001b[0;34m\u001b[0m\n\u001b[1;32m    125\u001b[0m         \u001b[0mobs\u001b[0m\u001b[0;34m,\u001b[0m \u001b[0mreward\u001b[0m\u001b[0;34m,\u001b[0m \u001b[0mterminated\u001b[0m\u001b[0;34m,\u001b[0m \u001b[0mtruncated\u001b[0m\u001b[0;34m,\u001b[0m \u001b[0m_\u001b[0m \u001b[0;34m=\u001b[0m \u001b[0menv\u001b[0m\u001b[0;34m.\u001b[0m\u001b[0mstep\u001b[0m\u001b[0;34m(\u001b[0m\u001b[0maction\u001b[0m\u001b[0;34m)\u001b[0m\u001b[0;34m\u001b[0m\u001b[0;34m\u001b[0m\u001b[0m\n\u001b[1;32m    126\u001b[0m \u001b[0;34m\u001b[0m\u001b[0m\n\u001b[0;32m--> 127\u001b[0;31m         \u001b[0mnext_states\u001b[0m \u001b[0;34m=\u001b[0m \u001b[0mdepth_first_search\u001b[0m\u001b[0;34m(\u001b[0m\u001b[0menv\u001b[0m\u001b[0;34m,\u001b[0m \u001b[0magent\u001b[0m\u001b[0;34m,\u001b[0m \u001b[0mdepth\u001b[0m\u001b[0;34m=\u001b[0m\u001b[0;36m2\u001b[0m\u001b[0;34m)\u001b[0m\u001b[0;34m\u001b[0m\u001b[0;34m\u001b[0m\u001b[0m\n\u001b[0m\u001b[1;32m    128\u001b[0m         \u001b[0mprint\u001b[0m\u001b[0;34m(\u001b[0m\u001b[0mlen\u001b[0m\u001b[0;34m(\u001b[0m\u001b[0mnext_states\u001b[0m\u001b[0;34m)\u001b[0m\u001b[0;34m)\u001b[0m\u001b[0;34m\u001b[0m\u001b[0;34m\u001b[0m\u001b[0m\n\u001b[1;32m    129\u001b[0m \u001b[0;34m\u001b[0m\u001b[0m\n",
      "\u001b[0;32m/tmp/ipykernel_30072/2011081897.py\u001b[0m in \u001b[0;36mdepth_first_search\u001b[0;34m(env, agent, depth)\u001b[0m\n\u001b[1;32m     31\u001b[0m         \u001b[0;32mreturn\u001b[0m \u001b[0;34m[\u001b[0m\u001b[0mhash_state\u001b[0m\u001b[0;34m(\u001b[0m\u001b[0menv\u001b[0m\u001b[0;34m)\u001b[0m\u001b[0;34m]\u001b[0m\u001b[0;34m\u001b[0m\u001b[0;34m\u001b[0m\u001b[0m\n\u001b[1;32m     32\u001b[0m \u001b[0;34m\u001b[0m\u001b[0m\n\u001b[0;32m---> 33\u001b[0;31m     \u001b[0mnext_states\u001b[0m \u001b[0;34m=\u001b[0m \u001b[0mget_next_states\u001b[0m\u001b[0;34m(\u001b[0m\u001b[0menv\u001b[0m\u001b[0;34m,\u001b[0m \u001b[0magent\u001b[0m\u001b[0;34m)\u001b[0m\u001b[0;34m\u001b[0m\u001b[0;34m\u001b[0m\u001b[0m\n\u001b[0m\u001b[1;32m     34\u001b[0m \u001b[0;34m\u001b[0m\u001b[0m\n\u001b[1;32m     35\u001b[0m     \u001b[0;31m# for each of the next states, get their next states and append them to all_states\u001b[0m\u001b[0;34m\u001b[0m\u001b[0;34m\u001b[0m\u001b[0;34m\u001b[0m\u001b[0m\n",
      "\u001b[0;32m/tmp/ipykernel_30072/2011081897.py\u001b[0m in \u001b[0;36mget_next_states\u001b[0;34m(env, agent)\u001b[0m\n\u001b[1;32m     77\u001b[0m \u001b[0;34m\u001b[0m\u001b[0m\n\u001b[1;32m     78\u001b[0m         \u001b[0mobs_new\u001b[0m\u001b[0;34m,\u001b[0m \u001b[0m_\u001b[0m\u001b[0;34m,\u001b[0m \u001b[0m_\u001b[0m\u001b[0;34m,\u001b[0m \u001b[0m_\u001b[0m\u001b[0;34m,\u001b[0m \u001b[0m_\u001b[0m \u001b[0;34m=\u001b[0m \u001b[0menv_new\u001b[0m\u001b[0;34m.\u001b[0m\u001b[0mstep\u001b[0m\u001b[0;34m(\u001b[0m\u001b[0maction\u001b[0m\u001b[0;34m)\u001b[0m\u001b[0;34m\u001b[0m\u001b[0;34m\u001b[0m\u001b[0m\n\u001b[0;32m---> 79\u001b[0;31m         \u001b[0mnext_states\u001b[0m\u001b[0;34m.\u001b[0m\u001b[0mappend\u001b[0m\u001b[0;34m(\u001b[0m\u001b[0mhash_state\u001b[0m\u001b[0;34m(\u001b[0m\u001b[0menv_new\u001b[0m\u001b[0;34m)\u001b[0m\u001b[0;34m)\u001b[0m\u001b[0;34m\u001b[0m\u001b[0;34m\u001b[0m\u001b[0m\n\u001b[0m\u001b[1;32m     80\u001b[0m \u001b[0;34m\u001b[0m\u001b[0m\n\u001b[1;32m     81\u001b[0m     \u001b[0;32mreturn\u001b[0m \u001b[0mset\u001b[0m\u001b[0;34m(\u001b[0m\u001b[0mnext_states\u001b[0m\u001b[0;34m)\u001b[0m\u001b[0;34m\u001b[0m\u001b[0;34m\u001b[0m\u001b[0m\n",
      "\u001b[0;32m/tmp/ipykernel_30072/2011081897.py\u001b[0m in \u001b[0;36mhash_state\u001b[0;34m(state)\u001b[0m\n\u001b[1;32m     22\u001b[0m \u001b[0;34m\u001b[0m\u001b[0m\n\u001b[1;32m     23\u001b[0m \u001b[0;32mdef\u001b[0m \u001b[0mhash_state\u001b[0m\u001b[0;34m(\u001b[0m\u001b[0mstate\u001b[0m\u001b[0;34m)\u001b[0m\u001b[0;34m:\u001b[0m\u001b[0;34m\u001b[0m\u001b[0;34m\u001b[0m\u001b[0m\n\u001b[0;32m---> 24\u001b[0;31m     \u001b[0mstate_string\u001b[0m \u001b[0;34m=\u001b[0m \u001b[0mjson\u001b[0m\u001b[0;34m.\u001b[0m\u001b[0mdumps\u001b[0m\u001b[0;34m(\u001b[0m\u001b[0mstate\u001b[0m\u001b[0;34m,\u001b[0m \u001b[0mcls\u001b[0m\u001b[0;34m=\u001b[0m\u001b[0mNumpyEncoder\u001b[0m\u001b[0;34m,\u001b[0m \u001b[0msort_keys\u001b[0m\u001b[0;34m=\u001b[0m\u001b[0;32mTrue\u001b[0m\u001b[0;34m)\u001b[0m\u001b[0;34m.\u001b[0m\u001b[0mencode\u001b[0m\u001b[0;34m(\u001b[0m\u001b[0;34m'utf-8'\u001b[0m\u001b[0;34m)\u001b[0m\u001b[0;34m\u001b[0m\u001b[0;34m\u001b[0m\u001b[0m\n\u001b[0m\u001b[1;32m     25\u001b[0m     \u001b[0;32mreturn\u001b[0m \u001b[0mhashlib\u001b[0m\u001b[0;34m.\u001b[0m\u001b[0msha256\u001b[0m\u001b[0;34m(\u001b[0m\u001b[0mstate_string\u001b[0m\u001b[0;34m)\u001b[0m\u001b[0;34m.\u001b[0m\u001b[0mhexdigest\u001b[0m\u001b[0;34m(\u001b[0m\u001b[0;34m)\u001b[0m  \u001b[0;31m# Hash the encoded state_string, not the state\u001b[0m\u001b[0;34m\u001b[0m\u001b[0;34m\u001b[0m\u001b[0m\n\u001b[1;32m     26\u001b[0m \u001b[0;34m\u001b[0m\u001b[0m\n",
      "\u001b[0;32m~/miniconda3/envs/minigrid/lib/python3.7/json/__init__.py\u001b[0m in \u001b[0;36mdumps\u001b[0;34m(obj, skipkeys, ensure_ascii, check_circular, allow_nan, cls, indent, separators, default, sort_keys, **kw)\u001b[0m\n\u001b[1;32m    236\u001b[0m         \u001b[0mcheck_circular\u001b[0m\u001b[0;34m=\u001b[0m\u001b[0mcheck_circular\u001b[0m\u001b[0;34m,\u001b[0m \u001b[0mallow_nan\u001b[0m\u001b[0;34m=\u001b[0m\u001b[0mallow_nan\u001b[0m\u001b[0;34m,\u001b[0m \u001b[0mindent\u001b[0m\u001b[0;34m=\u001b[0m\u001b[0mindent\u001b[0m\u001b[0;34m,\u001b[0m\u001b[0;34m\u001b[0m\u001b[0;34m\u001b[0m\u001b[0m\n\u001b[1;32m    237\u001b[0m         \u001b[0mseparators\u001b[0m\u001b[0;34m=\u001b[0m\u001b[0mseparators\u001b[0m\u001b[0;34m,\u001b[0m \u001b[0mdefault\u001b[0m\u001b[0;34m=\u001b[0m\u001b[0mdefault\u001b[0m\u001b[0;34m,\u001b[0m \u001b[0msort_keys\u001b[0m\u001b[0;34m=\u001b[0m\u001b[0msort_keys\u001b[0m\u001b[0;34m,\u001b[0m\u001b[0;34m\u001b[0m\u001b[0;34m\u001b[0m\u001b[0m\n\u001b[0;32m--> 238\u001b[0;31m         **kw).encode(obj)\n\u001b[0m\u001b[1;32m    239\u001b[0m \u001b[0;34m\u001b[0m\u001b[0m\n\u001b[1;32m    240\u001b[0m \u001b[0;34m\u001b[0m\u001b[0m\n",
      "\u001b[0;32m~/miniconda3/envs/minigrid/lib/python3.7/json/encoder.py\u001b[0m in \u001b[0;36mencode\u001b[0;34m(self, o)\u001b[0m\n\u001b[1;32m    197\u001b[0m         \u001b[0;31m# exceptions aren't as detailed.  The list call should be roughly\u001b[0m\u001b[0;34m\u001b[0m\u001b[0;34m\u001b[0m\u001b[0;34m\u001b[0m\u001b[0m\n\u001b[1;32m    198\u001b[0m         \u001b[0;31m# equivalent to the PySequence_Fast that ''.join() would do.\u001b[0m\u001b[0;34m\u001b[0m\u001b[0;34m\u001b[0m\u001b[0;34m\u001b[0m\u001b[0m\n\u001b[0;32m--> 199\u001b[0;31m         \u001b[0mchunks\u001b[0m \u001b[0;34m=\u001b[0m \u001b[0mself\u001b[0m\u001b[0;34m.\u001b[0m\u001b[0miterencode\u001b[0m\u001b[0;34m(\u001b[0m\u001b[0mo\u001b[0m\u001b[0;34m,\u001b[0m \u001b[0m_one_shot\u001b[0m\u001b[0;34m=\u001b[0m\u001b[0;32mTrue\u001b[0m\u001b[0;34m)\u001b[0m\u001b[0;34m\u001b[0m\u001b[0;34m\u001b[0m\u001b[0m\n\u001b[0m\u001b[1;32m    200\u001b[0m         \u001b[0;32mif\u001b[0m \u001b[0;32mnot\u001b[0m \u001b[0misinstance\u001b[0m\u001b[0;34m(\u001b[0m\u001b[0mchunks\u001b[0m\u001b[0;34m,\u001b[0m \u001b[0;34m(\u001b[0m\u001b[0mlist\u001b[0m\u001b[0;34m,\u001b[0m \u001b[0mtuple\u001b[0m\u001b[0;34m)\u001b[0m\u001b[0;34m)\u001b[0m\u001b[0;34m:\u001b[0m\u001b[0;34m\u001b[0m\u001b[0;34m\u001b[0m\u001b[0m\n\u001b[1;32m    201\u001b[0m             \u001b[0mchunks\u001b[0m \u001b[0;34m=\u001b[0m \u001b[0mlist\u001b[0m\u001b[0;34m(\u001b[0m\u001b[0mchunks\u001b[0m\u001b[0;34m)\u001b[0m\u001b[0;34m\u001b[0m\u001b[0;34m\u001b[0m\u001b[0m\n",
      "\u001b[0;32m~/miniconda3/envs/minigrid/lib/python3.7/json/encoder.py\u001b[0m in \u001b[0;36miterencode\u001b[0;34m(self, o, _one_shot)\u001b[0m\n\u001b[1;32m    255\u001b[0m                 \u001b[0mself\u001b[0m\u001b[0;34m.\u001b[0m\u001b[0mkey_separator\u001b[0m\u001b[0;34m,\u001b[0m \u001b[0mself\u001b[0m\u001b[0;34m.\u001b[0m\u001b[0mitem_separator\u001b[0m\u001b[0;34m,\u001b[0m \u001b[0mself\u001b[0m\u001b[0;34m.\u001b[0m\u001b[0msort_keys\u001b[0m\u001b[0;34m,\u001b[0m\u001b[0;34m\u001b[0m\u001b[0;34m\u001b[0m\u001b[0m\n\u001b[1;32m    256\u001b[0m                 self.skipkeys, _one_shot)\n\u001b[0;32m--> 257\u001b[0;31m         \u001b[0;32mreturn\u001b[0m \u001b[0m_iterencode\u001b[0m\u001b[0;34m(\u001b[0m\u001b[0mo\u001b[0m\u001b[0;34m,\u001b[0m \u001b[0;36m0\u001b[0m\u001b[0;34m)\u001b[0m\u001b[0;34m\u001b[0m\u001b[0;34m\u001b[0m\u001b[0m\n\u001b[0m\u001b[1;32m    258\u001b[0m \u001b[0;34m\u001b[0m\u001b[0m\n\u001b[1;32m    259\u001b[0m def _make_iterencode(markers, _default, _encoder, _indent, _floatstr,\n",
      "\u001b[0;32m/tmp/ipykernel_30072/2011081897.py\u001b[0m in \u001b[0;36mdefault\u001b[0;34m(self, obj)\u001b[0m\n\u001b[1;32m     19\u001b[0m             \u001b[0;32mreturn\u001b[0m \u001b[0mobj\u001b[0m\u001b[0;34m.\u001b[0m\u001b[0mtolist\u001b[0m\u001b[0;34m(\u001b[0m\u001b[0;34m)\u001b[0m\u001b[0;34m\u001b[0m\u001b[0;34m\u001b[0m\u001b[0m\n\u001b[1;32m     20\u001b[0m         \u001b[0;32melse\u001b[0m\u001b[0;34m:\u001b[0m\u001b[0;34m\u001b[0m\u001b[0;34m\u001b[0m\u001b[0m\n\u001b[0;32m---> 21\u001b[0;31m             \u001b[0;32mreturn\u001b[0m \u001b[0msuper\u001b[0m\u001b[0;34m(\u001b[0m\u001b[0mNumpyEncoder\u001b[0m\u001b[0;34m,\u001b[0m \u001b[0mself\u001b[0m\u001b[0;34m)\u001b[0m\u001b[0;34m.\u001b[0m\u001b[0mdefault\u001b[0m\u001b[0;34m(\u001b[0m\u001b[0mobj\u001b[0m\u001b[0;34m)\u001b[0m\u001b[0;34m\u001b[0m\u001b[0;34m\u001b[0m\u001b[0m\n\u001b[0m\u001b[1;32m     22\u001b[0m \u001b[0;34m\u001b[0m\u001b[0m\n\u001b[1;32m     23\u001b[0m \u001b[0;32mdef\u001b[0m \u001b[0mhash_state\u001b[0m\u001b[0;34m(\u001b[0m\u001b[0mstate\u001b[0m\u001b[0;34m)\u001b[0m\u001b[0;34m:\u001b[0m\u001b[0;34m\u001b[0m\u001b[0;34m\u001b[0m\u001b[0m\n",
      "\u001b[0;32m~/miniconda3/envs/minigrid/lib/python3.7/json/encoder.py\u001b[0m in \u001b[0;36mdefault\u001b[0;34m(self, o)\u001b[0m\n\u001b[1;32m    177\u001b[0m \u001b[0;34m\u001b[0m\u001b[0m\n\u001b[1;32m    178\u001b[0m         \"\"\"\n\u001b[0;32m--> 179\u001b[0;31m         raise TypeError(f'Object of type {o.__class__.__name__} '\n\u001b[0m\u001b[1;32m    180\u001b[0m                         f'is not JSON serializable')\n\u001b[1;32m    181\u001b[0m \u001b[0;34m\u001b[0m\u001b[0m\n",
      "\u001b[0;31mTypeError\u001b[0m: Object of type OrderEnforcing is not JSON serializable"
     ]
    }
   ],
   "source": [
    "import numpy\n",
    "import json\n",
    "import utils\n",
    "from utils import device\n",
    "import hashlib\n",
    "import torch\n",
    "import numpy as np\n",
    "from copy import deepcopy\n",
    "import pickle\n",
    "\n",
    "\n",
    "class NumpyEncoder(json.JSONEncoder):\n",
    "    def default(self, obj):\n",
    "        if isinstance(obj, np.integer):\n",
    "            return int(obj)\n",
    "        elif isinstance(obj, np.floating):\n",
    "            return float(obj)\n",
    "        elif isinstance(obj, np.ndarray):\n",
    "            return obj.tolist()\n",
    "        else:\n",
    "            return super(NumpyEncoder, self).default(obj)\n",
    "\n",
    "def hash_state(state):\n",
    "    state_string = json.dumps(state, cls=NumpyEncoder, sort_keys=True).encode('utf-8')\n",
    "    return hashlib.sha256(state_string).hexdigest()  # Hash the encoded state_string, not the state\n",
    "\n",
    "\n",
    "\n",
    "def depth_first_search(env, agent, depth):\n",
    "    if depth == 0:\n",
    "        return [hash_state(env)]\n",
    "    \n",
    "    next_states = get_next_states(env, agent)\n",
    "\n",
    "    # for each of the next states, get their next states and append them to all_states\n",
    "    all_states = []\n",
    "\n",
    "    for next_state in next_states:\n",
    "        env_new = pickle.loads(pickle.dumps(env)) # restore the environment state\n",
    "        all_states.extend(depth_first_search(env_new, agent, depth=depth-1))\n",
    "    \n",
    "    return all_states\n",
    "\n",
    "def hash_grid(env):\n",
    "    # Retrieve the grid\n",
    "    grid = env.grid.encode()\n",
    "\n",
    "    # Retrieve the agent's position and direction\n",
    "    agent_pos = env.agent_pos\n",
    "    agent_dir = env.agent_dir\n",
    "\n",
    "    # Flatten the grid and convert to string\n",
    "    grid_string = ''.join(str(cell) for row in grid for cell in row)\n",
    "\n",
    "    # Add the agent's position and direction to the string\n",
    "    state_string = f'{grid_string},{agent_pos},{agent_dir}'\n",
    "    \n",
    "    print(agent_pos, agent_dir)\n",
    "    # Hash the string\n",
    "    return hashlib.sha256(state_string.encode('utf-8')).hexdigest()\n",
    "\n",
    "\n",
    "def get_next_states(env, agent):\n",
    "    \"\"\"\n",
    "    Returns all possible next states given current state\n",
    "    \"\"\"\n",
    "    # find all possible actions\n",
    "    action_space = env.action_space.n\n",
    "\n",
    "    # initialize next_states list\n",
    "    next_states = []\n",
    "\n",
    "    # get next state for each action\n",
    "    for action in range(action_space):\n",
    "        # Create a new environment instance by pickling and unpickling\n",
    "        env_new = pickle.loads(pickle.dumps(env))\n",
    "\n",
    "        obs_new, _, _, _, _ = env_new.step(action)\n",
    "        next_states.append(hash_state(env_new))\n",
    "\n",
    "    return set(next_states)\n",
    "\n",
    "\n",
    "\n",
    "# Replace command line arguments with hard-coded values.\n",
    "env_name = \"MiniGrid-DoorKey-6x6-v0\"\n",
    "model_name = \"DoorKeya2c\"\n",
    "seed = 0\n",
    "shift = 0\n",
    "argmax = False\n",
    "pause = 0.1\n",
    "gif = None\n",
    "episodes = 1\n",
    "memory = False\n",
    "text = False\n",
    "\n",
    "# Set seed for all randomness sources\n",
    "utils.seed(seed)\n",
    "\n",
    "# Set device\n",
    "print(f\"Device: {device}\\n\")\n",
    "\n",
    "# Load environment\n",
    "env = utils.make_env(env_name, seed)\n",
    "for _ in range(shift):\n",
    "    env.reset()\n",
    "print(\"Environment loaded\\n\")\n",
    "\n",
    "# Load agent\n",
    "model_dir = utils.get_model_dir(model_name)\n",
    "agent = utils.Agent(env.observation_space, env.action_space, model_dir,\n",
    "                    argmax=argmax, use_memory=memory, use_text=text)\n",
    "print(\"Agent loaded\\n\")\n",
    "\n",
    "# Run the agent\n",
    "if gif:\n",
    "    from array2gif import write_gif\n",
    "    frames = []\n",
    "\n",
    "for episode in range(episodes):\n",
    "    obs, _ = env.reset()\n",
    "\n",
    "    while True:\n",
    "        action = agent.get_action(obs)\n",
    "        obs, reward, terminated, truncated, _ = env.step(action)\n",
    "\n",
    "        next_states = depth_first_search(env, agent, depth=2)\n",
    "        print(len(next_states))\n",
    "\n",
    "        done = terminated | truncated\n",
    "        agent.analyze_feedback(reward, done)\n",
    "\n",
    "        if done:\n",
    "            break\n",
    "\n",
    "if gif:\n",
    "    print(\"Saving gif... \", end=\"\")\n",
    "    write_gif(numpy.array(frames), gif+\".gif\", fps=1/pause)\n",
    "    print(\"Done.\")\n"
   ]
  },
  {
   "cell_type": "code",
   "execution_count": 55,
   "id": "1b1b15fd",
   "metadata": {},
   "outputs": [
    {
     "ename": "SyntaxError",
     "evalue": "invalid syntax (<fstring>, line 1)",
     "output_type": "error",
     "traceback": [
      "\u001b[0;36m  File \u001b[0;32m\"<fstring>\"\u001b[0;36m, line \u001b[0;32m1\u001b[0m\n\u001b[0;31m    (=a)\u001b[0m\n\u001b[0m     ^\u001b[0m\n\u001b[0;31mSyntaxError\u001b[0m\u001b[0;31m:\u001b[0m invalid syntax\n"
     ]
    }
   ],
   "source": [
    "a = 1\n",
    "print(f\"{=a}\")"
   ]
  },
  {
   "cell_type": "code",
   "execution_count": null,
   "id": "136ebc89",
   "metadata": {},
   "outputs": [],
   "source": [
    "env_copy2 = env.grid\n"
   ]
  },
  {
   "cell_type": "code",
   "execution_count": 61,
   "id": "bb86fca6",
   "metadata": {},
   "outputs": [
    {
     "data": {
      "text/plain": [
       "['__annotations__',\n",
       " '__class__',\n",
       " '__class_getitem__',\n",
       " '__delattr__',\n",
       " '__dict__',\n",
       " '__dir__',\n",
       " '__doc__',\n",
       " '__enter__',\n",
       " '__eq__',\n",
       " '__exit__',\n",
       " '__format__',\n",
       " '__ge__',\n",
       " '__getattr__',\n",
       " '__getattribute__',\n",
       " '__gt__',\n",
       " '__hash__',\n",
       " '__init__',\n",
       " '__init_subclass__',\n",
       " '__le__',\n",
       " '__lt__',\n",
       " '__module__',\n",
       " '__ne__',\n",
       " '__new__',\n",
       " '__orig_bases__',\n",
       " '__parameters__',\n",
       " '__reduce__',\n",
       " '__reduce_ex__',\n",
       " '__repr__',\n",
       " '__setattr__',\n",
       " '__sizeof__',\n",
       " '__slotnames__',\n",
       " '__slots__',\n",
       " '__str__',\n",
       " '__subclasshook__',\n",
       " '__weakref__',\n",
       " '_action_space',\n",
       " '_cached_spec',\n",
       " '_disable_render_order_enforcing',\n",
       " '_has_reset',\n",
       " '_metadata',\n",
       " '_np_random',\n",
       " '_observation_space',\n",
       " '_reward_range',\n",
       " '_saved_kwargs',\n",
       " 'action_space',\n",
       " 'class_name',\n",
       " 'close',\n",
       " 'env',\n",
       " 'has_reset',\n",
       " 'metadata',\n",
       " 'np_random',\n",
       " 'observation_space',\n",
       " 'render',\n",
       " 'render_mode',\n",
       " 'reset',\n",
       " 'reward_range',\n",
       " 'spec',\n",
       " 'step',\n",
       " 'unwrapped',\n",
       " 'wrapper_spec']"
      ]
     },
     "execution_count": 61,
     "metadata": {},
     "output_type": "execute_result"
    }
   ],
   "source": [
    "dir(env)"
   ]
  },
  {
   "cell_type": "code",
   "execution_count": 34,
   "id": "b02d25b2",
   "metadata": {},
   "outputs": [
    {
     "data": {
      "text/plain": [
       "[<minigrid.core.world_object.Wall at 0x7fa2ed7b49d0>,\n",
       " <minigrid.core.world_object.Wall at 0x7fa2ed7a3fd0>,\n",
       " <minigrid.core.world_object.Wall at 0x7fa2ed7a3dd0>,\n",
       " <minigrid.core.world_object.Wall at 0x7fa2ed7b4450>,\n",
       " <minigrid.core.world_object.Wall at 0x7fa2eda6b510>,\n",
       " <minigrid.core.world_object.Wall at 0x7fa2ed7b4110>,\n",
       " <minigrid.core.world_object.Wall at 0x7fa2ed7a3f50>,\n",
       " None,\n",
       " None,\n",
       " <minigrid.core.world_object.Wall at 0x7fa36e290110>,\n",
       " None,\n",
       " <minigrid.core.world_object.Wall at 0x7fa2ed7b42d0>,\n",
       " <minigrid.core.world_object.Wall at 0x7fa2ed7b4a50>,\n",
       " None,\n",
       " None,\n",
       " <minigrid.core.world_object.Wall at 0x7fa2ed7b44d0>,\n",
       " None,\n",
       " <minigrid.core.world_object.Wall at 0x7fa2ed7b4f10>,\n",
       " <minigrid.core.world_object.Wall at 0x7fa2ed7b4ad0>,\n",
       " None,\n",
       " None,\n",
       " <minigrid.core.world_object.Door at 0x7fa2ed7b4090>,\n",
       " None,\n",
       " <minigrid.core.world_object.Wall at 0x7fa2ed7b4390>,\n",
       " <minigrid.core.world_object.Wall at 0x7fa2ed7b4b50>,\n",
       " None,\n",
       " None,\n",
       " <minigrid.core.world_object.Wall at 0x7fa2ed7b4690>,\n",
       " <minigrid.core.world_object.Goal at 0x7fa2ed7b4e50>,\n",
       " <minigrid.core.world_object.Wall at 0x7fa2ed7b43d0>,\n",
       " <minigrid.core.world_object.Wall at 0x7fa2ed7b4d90>,\n",
       " <minigrid.core.world_object.Wall at 0x7fa2ed7b4310>,\n",
       " <minigrid.core.world_object.Wall at 0x7fa2ed7b4350>,\n",
       " <minigrid.core.world_object.Wall at 0x7fa2ed7b45d0>,\n",
       " <minigrid.core.world_object.Wall at 0x7fa2ed7b4e90>,\n",
       " <minigrid.core.world_object.Wall at 0x7fa2ed7b4410>]"
      ]
     },
     "execution_count": 34,
     "metadata": {},
     "output_type": "execute_result"
    }
   ],
   "source": [
    "env_copy2.grid"
   ]
  },
  {
   "cell_type": "code",
   "execution_count": 23,
   "id": "92036340",
   "metadata": {},
   "outputs": [
    {
     "data": {
      "text/plain": [
       "[<minigrid.core.world_object.Wall at 0x7fa2eda42a50>,\n",
       " <minigrid.core.world_object.Wall at 0x7fa2eda42910>,\n",
       " <minigrid.core.world_object.Wall at 0x7fa2eda425d0>,\n",
       " <minigrid.core.world_object.Wall at 0x7fa2eda42a10>,\n",
       " <minigrid.core.world_object.Wall at 0x7fa2eda42b50>,\n",
       " <minigrid.core.world_object.Wall at 0x7fa2eda42790>,\n",
       " <minigrid.core.world_object.Wall at 0x7fa2eda424d0>,\n",
       " None,\n",
       " None,\n",
       " <minigrid.core.world_object.Wall at 0x7fa2eda42690>,\n",
       " None,\n",
       " <minigrid.core.world_object.Wall at 0x7fa2eda42710>,\n",
       " <minigrid.core.world_object.Wall at 0x7fa2eda42990>,\n",
       " None,\n",
       " None,\n",
       " <minigrid.core.world_object.Wall at 0x7fa2eda427d0>,\n",
       " None,\n",
       " <minigrid.core.world_object.Wall at 0x7fa2eda429d0>,\n",
       " <minigrid.core.world_object.Wall at 0x7fa2eda426d0>,\n",
       " None,\n",
       " None,\n",
       " <minigrid.core.world_object.Door at 0x7fa2eda42750>,\n",
       " None,\n",
       " <minigrid.core.world_object.Wall at 0x7fa2eda42c10>,\n",
       " <minigrid.core.world_object.Wall at 0x7fa2eda42bd0>,\n",
       " None,\n",
       " None,\n",
       " <minigrid.core.world_object.Wall at 0x7fa2eda42c50>,\n",
       " <minigrid.core.world_object.Goal at 0x7fa2eda42b90>,\n",
       " <minigrid.core.world_object.Wall at 0x7fa2eda428d0>,\n",
       " <minigrid.core.world_object.Wall at 0x7fa2eda42a90>,\n",
       " <minigrid.core.world_object.Wall at 0x7fa2eda423d0>,\n",
       " <minigrid.core.world_object.Wall at 0x7fa2eda42c90>,\n",
       " <minigrid.core.world_object.Wall at 0x7fa2eda42890>,\n",
       " <minigrid.core.world_object.Wall at 0x7fa2eda42950>,\n",
       " <minigrid.core.world_object.Wall at 0x7fa2eda42ad0>]"
      ]
     },
     "execution_count": 23,
     "metadata": {},
     "output_type": "execute_result"
    }
   ],
   "source": [
    "env_copy.grid"
   ]
  },
  {
   "cell_type": "code",
   "execution_count": 5,
   "id": "9fc3db39",
   "metadata": {},
   "outputs": [
    {
     "ename": "NameError",
     "evalue": "name 'agent' is not defined",
     "output_type": "error",
     "traceback": [
      "\u001b[0;31m---------------------------------------------------------------------------\u001b[0m",
      "\u001b[0;31mNameError\u001b[0m                                 Traceback (most recent call last)",
      "\u001b[0;32m/tmp/ipykernel_30072/2515392134.py\u001b[0m in \u001b[0;36m<module>\u001b[0;34m\u001b[0m\n\u001b[0;32m----> 1\u001b[0;31m \u001b[0maction\u001b[0m \u001b[0;34m=\u001b[0m \u001b[0magent\u001b[0m\u001b[0;34m.\u001b[0m\u001b[0mget_action\u001b[0m\u001b[0;34m(\u001b[0m\u001b[0mobs\u001b[0m\u001b[0;34m)\u001b[0m\u001b[0;34m\u001b[0m\u001b[0;34m\u001b[0m\u001b[0m\n\u001b[0m\u001b[1;32m      2\u001b[0m \u001b[0mobs\u001b[0m\u001b[0;34m,\u001b[0m \u001b[0mreward\u001b[0m\u001b[0;34m,\u001b[0m \u001b[0mterminated\u001b[0m\u001b[0;34m,\u001b[0m \u001b[0mtruncated\u001b[0m\u001b[0;34m,\u001b[0m \u001b[0m_\u001b[0m \u001b[0;34m=\u001b[0m \u001b[0menv\u001b[0m\u001b[0;34m.\u001b[0m\u001b[0mstep\u001b[0m\u001b[0;34m(\u001b[0m\u001b[0maction\u001b[0m\u001b[0;34m)\u001b[0m\u001b[0;34m\u001b[0m\u001b[0;34m\u001b[0m\u001b[0m\n\u001b[1;32m      3\u001b[0m \u001b[0;34m\u001b[0m\u001b[0m\n\u001b[1;32m      4\u001b[0m \u001b[0;31m# next_states now contains a dictionary of possible states at t+1, t+2, etc.\u001b[0m\u001b[0;34m\u001b[0m\u001b[0;34m\u001b[0m\u001b[0;34m\u001b[0m\u001b[0m\n\u001b[1;32m      5\u001b[0m \u001b[0mnext_states\u001b[0m \u001b[0;34m=\u001b[0m  \u001b[0mdfs\u001b[0m\u001b[0;34m(\u001b[0m\u001b[0menv\u001b[0m\u001b[0;34m,\u001b[0m \u001b[0mobs\u001b[0m\u001b[0;34m,\u001b[0m \u001b[0magent\u001b[0m\u001b[0;34m,\u001b[0m \u001b[0mdepth\u001b[0m\u001b[0;34m=\u001b[0m\u001b[0;36m3\u001b[0m\u001b[0;34m)\u001b[0m\u001b[0;34m\u001b[0m\u001b[0;34m\u001b[0m\u001b[0m\n",
      "\u001b[0;31mNameError\u001b[0m: name 'agent' is not defined"
     ]
    }
   ],
   "source": [
    "action = agent.get_action(obs)\n",
    "obs, reward, terminated, truncated, _ = env.step(action)\n",
    "\n",
    "# next_states now contains a dictionary of possible states at t+1, t+2, etc.        \n",
    "next_states =  depth_first_search(env, obs, agent, depth=3)\n",
    "print(len(next_states))\n",
    "\n",
    "done = terminated | truncated\n",
    "agent.analyze_feedback(reward, done)\n",
    "\n"
   ]
  },
  {
   "cell_type": "code",
   "execution_count": 3,
   "id": "a573b559",
   "metadata": {},
   "outputs": [
    {
     "ename": "NameError",
     "evalue": "name 'args' is not defined",
     "output_type": "error",
     "traceback": [
      "\u001b[0;31m---------------------------------------------------------------------------\u001b[0m",
      "\u001b[0;31mNameError\u001b[0m                                 Traceback (most recent call last)",
      "\u001b[0;32m/tmp/ipykernel_30072/1534726844.py\u001b[0m in \u001b[0;36m<module>\u001b[0;34m\u001b[0m\n\u001b[0;32m----> 1\u001b[0;31m \u001b[0;32mfor\u001b[0m \u001b[0mepisode\u001b[0m \u001b[0;32min\u001b[0m \u001b[0mrange\u001b[0m\u001b[0;34m(\u001b[0m\u001b[0margs\u001b[0m\u001b[0;34m.\u001b[0m\u001b[0mepisodes\u001b[0m\u001b[0;34m)\u001b[0m\u001b[0;34m:\u001b[0m\u001b[0;34m\u001b[0m\u001b[0;34m\u001b[0m\u001b[0m\n\u001b[0m\u001b[1;32m      2\u001b[0m     \u001b[0mobs\u001b[0m\u001b[0;34m,\u001b[0m \u001b[0m_\u001b[0m \u001b[0;34m=\u001b[0m \u001b[0menv\u001b[0m\u001b[0;34m.\u001b[0m\u001b[0mreset\u001b[0m\u001b[0;34m(\u001b[0m\u001b[0;34m)\u001b[0m\u001b[0;34m\u001b[0m\u001b[0;34m\u001b[0m\u001b[0m\n\u001b[1;32m      3\u001b[0m \u001b[0;34m\u001b[0m\u001b[0m\n\u001b[1;32m      4\u001b[0m \u001b[0;31m#     while True:\u001b[0m\u001b[0;34m\u001b[0m\u001b[0;34m\u001b[0m\u001b[0;34m\u001b[0m\u001b[0m\n\u001b[1;32m      5\u001b[0m \u001b[0;34m\u001b[0m\u001b[0m\n",
      "\u001b[0;31mNameError\u001b[0m: name 'args' is not defined"
     ]
    }
   ],
   "source": [
    "\n",
    "for episode in range(args.episodes):\n",
    "    obs, _ = env.reset()\n",
    "\n",
    "#     while True:\n",
    "\n",
    "\n",
    "\n"
   ]
  },
  {
   "cell_type": "code",
   "execution_count": null,
   "id": "69898803",
   "metadata": {},
   "outputs": [],
   "source": []
  }
 ],
 "metadata": {
  "kernelspec": {
   "display_name": "grid_world_kernel",
   "language": "python",
   "name": "minigrid"
  },
  "language_info": {
   "codemirror_mode": {
    "name": "ipython",
    "version": 3
   },
   "file_extension": ".py",
   "mimetype": "text/x-python",
   "name": "python",
   "nbconvert_exporter": "python",
   "pygments_lexer": "ipython3",
   "version": "3.7.12"
  }
 },
 "nbformat": 4,
 "nbformat_minor": 5
}
