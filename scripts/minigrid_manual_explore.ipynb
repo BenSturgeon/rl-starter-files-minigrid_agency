{
 "cells": [
  {
   "cell_type": "code",
   "execution_count": 2,
   "id": "cd008bd3",
   "metadata": {},
   "outputs": [
    {
     "name": "stdout",
     "output_type": "stream",
     "text": [
      "pygame 2.4.0 (SDL 2.26.4, Python 3.7.12)\n",
      "Hello from the pygame community. https://www.pygame.org/contribute.html\n"
     ]
    }
   ],
   "source": [
    "import gymnasium as gym\n",
    "from gymnasium import Env\n",
    "import pygame\n",
    "\n",
    "from minigrid.core.actions import Actions\n",
    "from minigrid.minigrid_env import MiniGridEnv\n",
    "from minigrid.wrappers import ImgObsWrapper, RGBImgPartialObsWrapper"
   ]
  },
  {
   "cell_type": "code",
   "execution_count": null,
   "id": "4cbb4fdc",
   "metadata": {},
   "outputs": [],
   "source": []
  }
 ],
 "metadata": {
  "kernelspec": {
   "display_name": "grid_world_kernel",
   "language": "python",
   "name": "minigrid"
  },
  "language_info": {
   "codemirror_mode": {
    "name": "ipython",
    "version": 3
   },
   "file_extension": ".py",
   "mimetype": "text/x-python",
   "name": "python",
   "nbconvert_exporter": "python",
   "pygments_lexer": "ipython3",
   "version": "3.7.12"
  }
 },
 "nbformat": 4,
 "nbformat_minor": 5
}
